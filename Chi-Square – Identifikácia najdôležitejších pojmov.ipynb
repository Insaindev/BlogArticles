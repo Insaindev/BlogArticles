{
 "cells": [
  {
   "cell_type": "code",
   "execution_count": 1,
   "metadata": {},
   "outputs": [
    {
     "name": "stderr",
     "output_type": "stream",
     "text": [
      "[nltk_data] Downloading package stopwords to\n",
      "[nltk_data]     /Users/zoltanhalasz/nltk_data...\n",
      "[nltk_data]   Package stopwords is already up-to-date!\n",
      "[nltk_data] Downloading package wordnet to\n",
      "[nltk_data]     /Users/zoltanhalasz/nltk_data...\n",
      "[nltk_data]   Package wordnet is already up-to-date!\n"
     ]
    },
    {
     "name": "stdout",
     "output_type": "stream",
     "text": [
      "addit elexacaftor generat cftr corrector tezacaftor plus ivacaftor improv cftr function clinic outcom phase studi peopl cystic fibrosi homozyg mutat like scienti\n",
      "addit elexacaftor vx next gener cftr corrector tezacaftor plu ivacaftor improv f del cftr function clinic outcom phase studi peopl cystic fibrosi homozyg f del mutat id like scienti\n",
      "addit elexacaftor vx next gener cftr corrector tezacaftor plu ivacaftor improv f del cftr function clinic outcom phase studi peopl cystic fibrosi homozyg f del mutat id like be scienti\n",
      "dave watch forest burn hill mile hous hadbeen hastili pack marta insid tri roundup pet wonder continu wait marta appear pet hero\n"
     ]
    }
   ],
   "source": [
    "#https://glowingpython.blogspot.com/2014/02/terms-selection-with-chi-square.html\n",
    "#https://towardsdatascience.com/using-the-chi-squared-test-for-feature-selection-with-implementation-b15a4dad93f1\n",
    "# https://towardsdatascience.com/chi-square-test-for-feature-selection-in-machine-learning-206b1f0b8223\n",
    "# https://realpython.com/sentiment-analysis-python/\n",
    "\n",
    "import os\n",
    "import sys\n",
    "import pandas as pd\n",
    "import matplotlib.pyplot as plt\n",
    "from sklearn.feature_extraction.text import TfidfVectorizer\n",
    "from sklearn.feature_selection import chi2\n",
    "import numpy as np\n",
    "from sklearn.model_selection import train_test_split\n",
    "from sklearn.feature_extraction.text import CountVectorizer\n",
    "from sklearn.ensemble import RandomForestClassifier\n",
    "from sklearn.pipeline import Pipeline\n",
    "from sklearn.metrics import accuracy_score\n",
    "\n",
    "cwd = os.getcwd()\n",
    "\n",
    "# inicializácia mojich funkcií\n",
    "sys.path.insert(1,cwd + '/insAInDev_Tools/')\n",
    "import insAInDev_Processor as insAIProc"
   ]
  },
  {
   "cell_type": "markdown",
   "metadata": {},
   "source": [
    "### Načítanie datasetu"
   ]
  },
  {
   "cell_type": "code",
   "execution_count": 2,
   "metadata": {},
   "outputs": [
    {
     "name": "stderr",
     "output_type": "stream",
     "text": [
      "<ipython-input-2-bfc8025ccd15>:2: FutureWarning: Passing a negative integer is deprecated in version 1.0 and will not be supported in future version. Instead, use None to not limit the column width.\n",
      "  pd.set_option('display.max_colwidth', -1)\n"
     ]
    },
    {
     "data": {
      "text/html": [
       "<div>\n",
       "<style scoped>\n",
       "    .dataframe tbody tr th:only-of-type {\n",
       "        vertical-align: middle;\n",
       "    }\n",
       "\n",
       "    .dataframe tbody tr th {\n",
       "        vertical-align: top;\n",
       "    }\n",
       "\n",
       "    .dataframe thead th {\n",
       "        text-align: right;\n",
       "    }\n",
       "</style>\n",
       "<table border=\"1\" class=\"dataframe\">\n",
       "  <thead>\n",
       "    <tr style=\"text-align: right;\">\n",
       "      <th></th>\n",
       "      <th>pubmedid</th>\n",
       "      <th>pmc</th>\n",
       "      <th>text</th>\n",
       "      <th>Review</th>\n",
       "      <th>chemical</th>\n",
       "      <th>mutation</th>\n",
       "      <th>Interaction</th>\n",
       "    </tr>\n",
       "  </thead>\n",
       "  <tbody>\n",
       "    <tr>\n",
       "      <th>0</th>\n",
       "      <td>28592587</td>\n",
       "      <td>PMC5471438</td>\n",
       "      <td>The observation that linaclotide stimulated fluid secretion and CFTR trafficking into the brush border surface in the rat small intestine in vivo led us to investigate the mechanisms of linaclotide-mediated downstream signaling pathways involved in fluid secretion</td>\n",
       "      <td>Its inhibitory effect was more profound when tissues were stimulated with lower concentrations of linaclotide. Cyclic GMP-dependent kinase cGKII is expressed in C2BBe and T84 cells. The observation that linaclotide stimulated fluid secretion and CFTR trafficking into the brush border surface in the rat small intestine in vivo led us to investigate the mechanisms of linaclotide-mediated downstream signaling pathways involved in fluid secretion. Cyclic GMP-dependent kinase cGKII is expressed in C2BBe and T84 cells</td>\n",
       "      <td>linaclotide</td>\n",
       "      <td>cftr</td>\n",
       "      <td>1</td>\n",
       "    </tr>\n",
       "    <tr>\n",
       "      <th>1</th>\n",
       "      <td>21882224</td>\n",
       "      <td>NaN</td>\n",
       "      <td>We recently discovered that hyaluronan was exported from fibroblasts by MRP5 and from epithelial cells by cystic fibrosis (CF) transmembrane conductance regulator (CFTR) that was known as a chloride channel</td>\n",
       "      <td>We recently discovered that hyaluronan was exported from fibroblasts by MRP5 and from epithelial cells by cystic fibrosis (CF) transmembrane conductance regulator (CFTR) that was known as a chloride channel. Recovery of _ÓF508-CFTR function by analogs of hyaluronan disaccharide. We recently discovered that hyaluronan was exported from fibroblasts by MRP5 and from epithelial cells by cystic fibrosis (CF) transmembrane conductance regulator (CFTR) that was known as a chloride channel</td>\n",
       "      <td>chloride</td>\n",
       "      <td>cftr</td>\n",
       "      <td>2</td>\n",
       "    </tr>\n",
       "    <tr>\n",
       "      <th>2</th>\n",
       "      <td>19309154</td>\n",
       "      <td>PMC2832307</td>\n",
       "      <td>Clinical doses of amikacin provide more effective suppression of the human CFTR-G542X stop mutation than gentamicin in a transgenic CF mouse model</td>\n",
       "      <td>Five percent of normal cystic fibrosis transmembrane conductance regulator mRNA ameliorates the severity of pulmonary disease in cystic fibrosis. Clinical doses of amikacin provide more effective suppression of the human CFTR-G542X stop mutation than gentamicin in a transgenic CF mouse model. Clinical doses of amikacin provide more effective suppression of the human CFTR-G542X stop mutation than gentamicin in a transgenic CF mouse model</td>\n",
       "      <td>amikacin</td>\n",
       "      <td>cftr</td>\n",
       "      <td>1</td>\n",
       "    </tr>\n",
       "  </tbody>\n",
       "</table>\n",
       "</div>"
      ],
      "text/plain": [
       "   pubmedid         pmc  \\\n",
       "0  28592587  PMC5471438   \n",
       "1  21882224  NaN          \n",
       "2  19309154  PMC2832307   \n",
       "\n",
       "                                                                                                                                                                                                                                                                       text  \\\n",
       "0  The observation that linaclotide stimulated fluid secretion and CFTR trafficking into the brush border surface in the rat small intestine in vivo led us to investigate the mechanisms of linaclotide-mediated downstream signaling pathways involved in fluid secretion   \n",
       "1  We recently discovered that hyaluronan was exported from fibroblasts by MRP5 and from epithelial cells by cystic fibrosis (CF) transmembrane conductance regulator (CFTR) that was known as a chloride channel                                                             \n",
       "2  Clinical doses of amikacin provide more effective suppression of the human CFTR-G542X stop mutation than gentamicin in a transgenic CF mouse model                                                                                                                         \n",
       "\n",
       "                                                                                                                                                                                                                                                                                                                                                                                                                                                                                                                                   Review  \\\n",
       "0   Its inhibitory effect was more profound when tissues were stimulated with lower concentrations of linaclotide. Cyclic GMP-dependent kinase cGKII is expressed in C2BBe and T84 cells. The observation that linaclotide stimulated fluid secretion and CFTR trafficking into the brush border surface in the rat small intestine in vivo led us to investigate the mechanisms of linaclotide-mediated downstream signaling pathways involved in fluid secretion. Cyclic GMP-dependent kinase cGKII is expressed in C2BBe and T84 cells   \n",
       "1  We recently discovered that hyaluronan was exported from fibroblasts by MRP5 and from epithelial cells by cystic fibrosis (CF) transmembrane conductance regulator (CFTR) that was known as a chloride channel. Recovery of _ÓF508-CFTR function by analogs of hyaluronan disaccharide. We recently discovered that hyaluronan was exported from fibroblasts by MRP5 and from epithelial cells by cystic fibrosis (CF) transmembrane conductance regulator (CFTR) that was known as a chloride channel                                   \n",
       "2  Five percent of normal cystic fibrosis transmembrane conductance regulator mRNA ameliorates the severity of pulmonary disease in cystic fibrosis. Clinical doses of amikacin provide more effective suppression of the human CFTR-G542X stop mutation than gentamicin in a transgenic CF mouse model. Clinical doses of amikacin provide more effective suppression of the human CFTR-G542X stop mutation than gentamicin in a transgenic CF mouse model                                                                                 \n",
       "\n",
       "      chemical mutation  Interaction  \n",
       "0  linaclotide  cftr     1            \n",
       "1  chloride     cftr     2            \n",
       "2  amikacin     cftr     1            "
      ]
     },
     "execution_count": 2,
     "metadata": {},
     "output_type": "execute_result"
    }
   ],
   "source": [
    "# nastavenie vizualizácie full text length\n",
    "pd.set_option('display.max_colwidth', -1)\n",
    "\n",
    "# separátor stĺpcov sa používa tabulator (pre čiarku to je sep=',')\n",
    "df = pd.read_csv(cwd + '/Datasets/ChiSquare_CFTR/CFTR_Dataset.txt',sep='\\t', error_bad_lines=False,  encoding = \"ISO-8859-1\" )\n",
    "# zobrazenie prvých 3 riadkov \n",
    "df.head(3)"
   ]
  },
  {
   "cell_type": "markdown",
   "metadata": {},
   "source": [
    "### Príprava datasetu s konkrétnymi stĺpcami"
   ]
  },
  {
   "cell_type": "code",
   "execution_count": 3,
   "metadata": {},
   "outputs": [
    {
     "data": {
      "text/html": [
       "<div>\n",
       "<style scoped>\n",
       "    .dataframe tbody tr th:only-of-type {\n",
       "        vertical-align: middle;\n",
       "    }\n",
       "\n",
       "    .dataframe tbody tr th {\n",
       "        vertical-align: top;\n",
       "    }\n",
       "\n",
       "    .dataframe thead th {\n",
       "        text-align: right;\n",
       "    }\n",
       "</style>\n",
       "<table border=\"1\" class=\"dataframe\">\n",
       "  <thead>\n",
       "    <tr style=\"text-align: right;\">\n",
       "      <th></th>\n",
       "      <th>Review</th>\n",
       "      <th>Interaction</th>\n",
       "      <th>category_id</th>\n",
       "    </tr>\n",
       "  </thead>\n",
       "  <tbody>\n",
       "    <tr>\n",
       "      <th>0</th>\n",
       "      <td>Its inhibitory effect was more profound when tissues were stimulated with lower concentrations of linaclotide. Cyclic GMP-dependent kinase cGKII is expressed in C2BBe and T84 cells. The observation that linaclotide stimulated fluid secretion and CFTR trafficking into the brush border surface in the rat small intestine in vivo led us to investigate the mechanisms of linaclotide-mediated downstream signaling pathways involved in fluid secretion. Cyclic GMP-dependent kinase cGKII is expressed in C2BBe and T84 cells</td>\n",
       "      <td>1</td>\n",
       "      <td>0</td>\n",
       "    </tr>\n",
       "    <tr>\n",
       "      <th>1</th>\n",
       "      <td>We recently discovered that hyaluronan was exported from fibroblasts by MRP5 and from epithelial cells by cystic fibrosis (CF) transmembrane conductance regulator (CFTR) that was known as a chloride channel. Recovery of _ÓF508-CFTR function by analogs of hyaluronan disaccharide. We recently discovered that hyaluronan was exported from fibroblasts by MRP5 and from epithelial cells by cystic fibrosis (CF) transmembrane conductance regulator (CFTR) that was known as a chloride channel</td>\n",
       "      <td>2</td>\n",
       "      <td>1</td>\n",
       "    </tr>\n",
       "    <tr>\n",
       "      <th>2</th>\n",
       "      <td>Five percent of normal cystic fibrosis transmembrane conductance regulator mRNA ameliorates the severity of pulmonary disease in cystic fibrosis. Clinical doses of amikacin provide more effective suppression of the human CFTR-G542X stop mutation than gentamicin in a transgenic CF mouse model. Clinical doses of amikacin provide more effective suppression of the human CFTR-G542X stop mutation than gentamicin in a transgenic CF mouse model</td>\n",
       "      <td>1</td>\n",
       "      <td>0</td>\n",
       "    </tr>\n",
       "  </tbody>\n",
       "</table>\n",
       "</div>"
      ],
      "text/plain": [
       "                                                                                                                                                                                                                                                                                                                                                                                                                                                                                                                                   Review  \\\n",
       "0   Its inhibitory effect was more profound when tissues were stimulated with lower concentrations of linaclotide. Cyclic GMP-dependent kinase cGKII is expressed in C2BBe and T84 cells. The observation that linaclotide stimulated fluid secretion and CFTR trafficking into the brush border surface in the rat small intestine in vivo led us to investigate the mechanisms of linaclotide-mediated downstream signaling pathways involved in fluid secretion. Cyclic GMP-dependent kinase cGKII is expressed in C2BBe and T84 cells   \n",
       "1  We recently discovered that hyaluronan was exported from fibroblasts by MRP5 and from epithelial cells by cystic fibrosis (CF) transmembrane conductance regulator (CFTR) that was known as a chloride channel. Recovery of _ÓF508-CFTR function by analogs of hyaluronan disaccharide. We recently discovered that hyaluronan was exported from fibroblasts by MRP5 and from epithelial cells by cystic fibrosis (CF) transmembrane conductance regulator (CFTR) that was known as a chloride channel                                   \n",
       "2  Five percent of normal cystic fibrosis transmembrane conductance regulator mRNA ameliorates the severity of pulmonary disease in cystic fibrosis. Clinical doses of amikacin provide more effective suppression of the human CFTR-G542X stop mutation than gentamicin in a transgenic CF mouse model. Clinical doses of amikacin provide more effective suppression of the human CFTR-G542X stop mutation than gentamicin in a transgenic CF mouse model                                                                                 \n",
       "\n",
       "   Interaction  category_id  \n",
       "0  1            0            \n",
       "1  2            1            \n",
       "2  1            0            "
      ]
     },
     "execution_count": 3,
     "metadata": {},
     "output_type": "execute_result"
    }
   ],
   "source": [
    "col = ['Review', 'Interaction']\n",
    "df = df[col]\n",
    "df = df[pd.notnull(df['Review'])]\n",
    "df['Interaction'] = df['Interaction']\n",
    "\n",
    "#necessary for confusion matrix\n",
    "df['category_id'] = df['Interaction'].factorize()[0]\n",
    "category_id_df = df[['Interaction', 'category_id']].drop_duplicates().sort_values('category_id')\n",
    "category_to_id = dict(category_id_df.values)\n",
    "id_to_category = dict(category_id_df[['category_id', 'Interaction']].values)\n",
    "\n",
    "df.head(3)"
   ]
  },
  {
   "cell_type": "markdown",
   "metadata": {},
   "source": [
    "### Vizualizácia v grafe"
   ]
  },
  {
   "cell_type": "code",
   "execution_count": 4,
   "metadata": {},
   "outputs": [
    {
     "data": {
      "image/png": "[encoded data removed]",
      "text/plain": [
       "<Figure size 576x432 with 1 Axes>"
      ]
     },
     "metadata": {
      "needs_background": "light"
     },
     "output_type": "display_data"
    }
   ],
   "source": [
    "fig = plt.figure(figsize=(8,6))\n",
    "df.groupby('Interaction').Review.count().plot.bar(ylim=0)\n",
    "plt.show()"
   ]
  },
  {
   "cell_type": "markdown",
   "metadata": {},
   "source": [
    "### Práca so STOPWORDS"
   ]
  },
  {
   "cell_type": "code",
   "execution_count": 5,
   "metadata": {},
   "outputs": [],
   "source": [
    "# # odstránenie stopwords a pridanie výnimky pre slovo 'not'\n",
    "# features = insAIProc.removeStopwordfromDataframeColumn(df,'not')\n",
    "# # inicialiácia labels\n",
    "# labels = df.Interaction\n",
    "\n"
   ]
  },
  {
   "cell_type": "markdown",
   "metadata": {},
   "source": [
    "### Rozdelenie datasetu na training a test"
   ]
  },
  {
   "cell_type": "code",
   "execution_count": 6,
   "metadata": {},
   "outputs": [],
   "source": [
    "# X_train, X_test, y_train, y_test = train_test_split(features, labels, random_state = 0,test_size=0.20)"
   ]
  },
  {
   "cell_type": "markdown",
   "metadata": {},
   "source": [
    "### Inicializácia modelu"
   ]
  },
  {
   "cell_type": "code",
   "execution_count": 7,
   "metadata": {},
   "outputs": [],
   "source": [
    "# cv = CountVectorizer()\n",
    "# rf = RandomForestClassifier(class_weight=\"balanced\")\n",
    "# # počet features na testovanie\n",
    "# # arange definuje rozsah od 10000 do 50000 s postupnosťou po 5000\n",
    "# n_features = np.arange(5000,50000,5000)"
   ]
  },
  {
   "cell_type": "markdown",
   "metadata": {},
   "source": [
    "### Podporné funkcie"
   ]
  },
  {
   "cell_type": "code",
   "execution_count": 8,
   "metadata": {},
   "outputs": [],
   "source": [
    "# # funkcia na výpočet skóre úspešnosti\n",
    "# def accuracy_summary(pipeline, X_train, y_train, X_test, y_test):\n",
    "#     sentiment_fit = pipeline.fit(X_train, y_train)\n",
    "#     y_pred = sentiment_fit.predict(X_test)\n",
    "#     accuracy = accuracy_score(y_test, y_pred)\n",
    "#     print(\"accuracy score: {0:.2f}%\".format(accuracy*100))\n",
    "#     return accuracy"
   ]
  },
  {
   "cell_type": "code",
   "execution_count": 9,
   "metadata": {},
   "outputs": [],
   "source": [
    "# # Testovacia funkcia s integrovanou pipeline\n",
    "# def nfeature_accuracy_checker(vectorizer=cv, n_features=n_features, stop_words=None, ngram_range=(1, 1), classifier=rf):\n",
    "#     result = []\n",
    "#     print(classifier)\n",
    "#     print(\"\\n\")\n",
    "#     for n in n_features:\n",
    "#         vectorizer.set_params(stop_words=stop_words, max_features=n, ngram_range=ngram_range)\n",
    "#         checker_pipeline = Pipeline([\n",
    "#             ('vectorizer', vectorizer),\n",
    "#             ('classifier', classifier)\n",
    "#         ])\n",
    "#         print(\"Test result for {} features\".format(n))\n",
    "#         nfeature_accuracy = accuracy_summary(checker_pipeline, X_train, y_train, X_test, y_test)\n",
    "#         result.append((n,nfeature_accuracy))\n",
    "#     return result"
   ]
  },
  {
   "cell_type": "markdown",
   "metadata": {},
   "source": [
    "### Kontrola presnosti features"
   ]
  },
  {
   "cell_type": "code",
   "execution_count": 10,
   "metadata": {},
   "outputs": [],
   "source": [
    "# tfidf2 = TfidfVectorizer()\n",
    "\n",
    "# n_features = np.arange(100,1000,50)\n",
    "\n",
    "# feature_result_tgt = insAIProc.nfeature_accuracy_checker( X_train, y_train, X_test, y_test, n_features, vectorizer=tfidf2,ngram_range=(1, 3))"
   ]
  },
  {
   "cell_type": "markdown",
   "metadata": {},
   "source": [
    "### Klasifikačný report úspešnosti"
   ]
  },
  {
   "cell_type": "code",
   "execution_count": 11,
   "metadata": {},
   "outputs": [],
   "source": [
    "# #Before we are done here, we should check the classification report.\n",
    "# from sklearn.metrics import classification_report\n",
    "# cv = CountVectorizer(max_features=15000,ngram_range=(1, 3))\n",
    "# pipeline = Pipeline([\n",
    "#         ('vectorizer', cv),\n",
    "#         ('classifier', rf)\n",
    "#     ])\n",
    "# sentiment_fit = pipeline.fit(X_train, y_train)\n",
    "# y_pred = sentiment_fit.predict(X_test)\n",
    "# print(classification_report(y_test, y_pred, target_names=['nelieci','lieci']))"
   ]
  },
  {
   "cell_type": "markdown",
   "metadata": {},
   "source": [
    "### Chi-square aj vizualizácia v grafe"
   ]
  },
  {
   "cell_type": "code",
   "execution_count": 12,
   "metadata": {
    "scrolled": false
   },
   "outputs": [
    {
     "name": "stdout",
     "output_type": "stream",
     "text": [
      "(1207, 2439)\n"
     ]
    },
    {
     "data": {
      "image/png": "[encoded data removed]",
      "text/plain": [
       "<Figure size 1152x576 with 1 Axes>"
      ]
     },
     "metadata": {
      "needs_background": "light"
     },
     "output_type": "display_data"
    }
   ],
   "source": [
    "# odstránenie stopwords a pridanie výnimky pre slovo 'not'\n",
    "features = insAIProc.removeStopwordfromDataframeColumn(df,'not')\n",
    "# inicialiácia labels\n",
    "labels = df.Interaction\n",
    "\n",
    "tfidf = TfidfVectorizer(max_features=15000,sublinear_tf=True, min_df=5, norm='l2', encoding='latin-1', ngram_range=(1, 2), stop_words='english')\n",
    "\n",
    "X_tfidf = tfidf.fit_transform(features).toarray()\n",
    "y = labels\n",
    "print(X_tfidf.shape)\n",
    "\n",
    "chi2score = chi2(X_tfidf, y)[0]\n",
    "plt.figure(figsize=(16,8))\n",
    "scores = list(zip(tfidf.get_feature_names(), chi2score))\n",
    "chi2 = sorted(scores, key=lambda x:x[1])\n",
    "topchi2 = list(zip(*chi2[-20:]))\n",
    "x = range(len(topchi2[1]))\n",
    "labels = topchi2[0]\n",
    "plt.barh(x,topchi2[1], align='center', alpha=0.5)\n",
    "plt.plot(topchi2[1], x, '-o', markersize=5, alpha=0.8)\n",
    "plt.yticks(x, labels)\n",
    "plt.xlabel('$\\chi^2$')\n",
    "plt.show();"
   ]
  }
 ],
 "metadata": {
  "kernelspec": {
   "display_name": "Python 3",
   "language": "python",
   "name": "python3"
  },
  "language_info": {
   "codemirror_mode": {
    "name": "ipython",
    "version": 3
   },
   "file_extension": ".py",
   "mimetype": "text/x-python",
   "name": "python",
   "nbconvert_exporter": "python",
   "pygments_lexer": "ipython3",
   "version": "3.8.5"
  }
 },
 "nbformat": 4,
 "nbformat_minor": 4
}
