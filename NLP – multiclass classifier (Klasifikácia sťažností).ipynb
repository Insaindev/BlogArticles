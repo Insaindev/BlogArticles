{
 "cells": [
  {
   "cell_type": "code",
   "execution_count": 7,
   "metadata": {},
   "outputs": [],
   "source": [
    "import os\n",
    "import sys\n",
    "import pandas as pd\n",
    "import csv\n",
    "\n",
    "import matplotlib.pyplot as plt\n",
    "from io import StringIO\n",
    "from sklearn.feature_extraction.text import TfidfVectorizer\n",
    "from sklearn.feature_selection import chi2\n",
    "import numpy as np\n",
    "import seaborn as sns\n",
    "\n",
    "from sklearn.model_selection import train_test_split\n",
    "from sklearn.feature_extraction.text import CountVectorizer\n",
    "from sklearn.feature_extraction.text import TfidfTransformer\n",
    "from sklearn.metrics import accuracy_score,precision_score,recall_score,f1_score\n",
    "\n",
    "from sklearn.naive_bayes import MultinomialNB\n",
    "from sklearn.linear_model import LogisticRegression\n",
    "from sklearn.ensemble import RandomForestClassifier\n",
    "from sklearn.svm import LinearSVC\n",
    "from sklearn.model_selection import cross_val_score\n",
    "\n",
    "cwd = os.getcwd()\n",
    "\n",
    "# inicializácia mojich funkcií\n",
    "sys.path.insert(1,cwd + '/insAInDev_Tools/')\n",
    "import insAInDev_Processor as insAIProc"
   ]
  },
  {
   "cell_type": "markdown",
   "metadata": {},
   "source": [
    "### Načítanie training datasetu sťažností"
   ]
  },
  {
   "cell_type": "code",
   "execution_count": 8,
   "metadata": {},
   "outputs": [
    {
     "name": "stderr",
     "output_type": "stream",
     "text": [
      "<ipython-input-8-48d29e58900d>:2: FutureWarning: Passing a negative integer is deprecated in version 1.0 and will not be supported in future version. Instead, use None to not limit the column width.\n",
      "  pd.set_option('display.max_colwidth', -1)\n"
     ]
    },
    {
     "name": "stdout",
     "output_type": "stream",
     "text": [
      "<bound method NDFrame.describe of       Date received  \\\n",
      "0      2019-09-24     \n",
      "1      2019-09-19     \n",
      "2      2019-11-08     \n",
      "3      2019-09-15     \n",
      "4      2021-01-27     \n",
      "...           ...     \n",
      "99995  2019-05-19     \n",
      "99996  2019-08-01     \n",
      "99997  2019-07-16     \n",
      "99998  2019-08-14     \n",
      "99999  2019-06-06     \n",
      "\n",
      "                                                                            Product  \\\n",
      "0      Debt collection                                                                \n",
      "1      Credit reporting, credit repair services, or other personal consumer reports   \n",
      "2      Debt collection                                                                \n",
      "3      Debt collection                                                                \n",
      "4      Credit reporting, credit repair services, or other personal consumer reports   \n",
      "...                                                                             ...   \n",
      "99995  Credit reporting, credit repair services, or other personal consumer reports   \n",
      "99996  Credit reporting, credit repair services, or other personal consumer reports   \n",
      "99997  Debt collection                                                                \n",
      "99998  Credit reporting, credit repair services, or other personal consumer reports   \n",
      "99999  Checking or savings account                                                    \n",
      "\n",
      "            Sub-product                                 Issue  \\\n",
      "0      I do not know     Attempts to collect debt not owed      \n",
      "1      Credit reporting  Incorrect information on your report   \n",
      "2      I do not know     Communication tactics                  \n",
      "3      Other debt        Attempts to collect debt not owed      \n",
      "4      Credit reporting  Incorrect information on your report   \n",
      "...                 ...                                   ...   \n",
      "99995  Credit reporting  Incorrect information on your report   \n",
      "99996  Credit reporting  Incorrect information on your report   \n",
      "99997  Other debt        Attempts to collect debt not owed      \n",
      "99998  Credit reporting  Improper use of your report            \n",
      "99999  Checking account  Managing an account                    \n",
      "\n",
      "                                                      Sub-issue  \\\n",
      "0      Debt is not yours                                          \n",
      "1      Information belongs to someone else                        \n",
      "2      Frequent or repeated calls                                 \n",
      "3      Debt was result of identity theft                          \n",
      "4      Information belongs to someone else                        \n",
      "...                                    ...                        \n",
      "99995  Account status incorrect                                   \n",
      "99996  Information is missing that should be on the report        \n",
      "99997  Debt is not yours                                          \n",
      "99998  Credit inquiries on your report that you don't recognize   \n",
      "99999  Deposits and withdrawals                                   \n",
      "\n",
      "                                                                                                                                                                                                                                                                                                                                                                                                                                                                                                                                                                                                                                                                                                                                                                                                                                                               Consumer complaint narrative  \\\n",
      "0      transworld systems inc. \\nis trying to collect a debt that is not mine, not owed and is inaccurate.                                                                                                                                                                                                                                                                                                                                                                                                                                                                                                                                                                                                                                                                                                                                                                                    \n",
      "1      NaN                                                                                                                                                                                                                                                                                                                                                                                                                                                                                                                                                                                                                                                                                                                                                                                                                                                                                    \n",
      "2      Over the past 2 weeks, I have been receiving excessive amounts of telephone calls from the company listed in this complaint. The calls occur between XXXX XXXX and XXXX XXXX to my cell and at my job. The company does not have the right to harass me at work and I want this to stop. It is extremely distracting to be told 5 times a day that I have a call from this collection agency while at work.                                                                                                                                                                                                                                                                                                                                                                                                                                                                            \n",
      "3      Pioneer has committed several federal violations against me, a Private law abiding Federally Protected Consumer. Each violation is a statutory cost of {$1000.00} each, which does not include my personal cost and fees which shall be determined for taking time to address these issues. Violations committed against me include but not limited to : ( 1 ) Violated 15 USC 1692c ( a ) ; Communication without prior consent, expressed permission. ( 2 ) Violated 15 USC 1692d ; Harass and oppressive use of intercourse about an alleged debt. ( 3 ) Violated 15 USC 1692d ( l ) ; Attacking my reputation, accusing me of owing an alleged debt to you. ( 4 ) Violated 15 USC 1692e ( 9 ) ; Use/distribution of communication with authorization or approval. ( 5 ) Violated 15 USC 1692f ( l ) ; Attempting to collect a debt unauthorized by an agreement between parties.   \n",
      "4      NaN                                                                                                                                                                                                                                                                                                                                                                                                                                                                                                                                                                                                                                                                                                                                                                                                                                                                                    \n",
      "...    ...                                                                                                                                                                                                                                                                                                                                                                                                                                                                                                                                                                                                                                                                                                                                                                                                                                                                                    \n",
      "99995  NaN                                                                                                                                                                                                                                                                                                                                                                                                                                                                                                                                                                                                                                                                                                                                                                                                                                                                                    \n",
      "99996  NaN                                                                                                                                                                                                                                                                                                                                                                                                                                                                                                                                                                                                                                                                                                                                                                                                                                                                                    \n",
      "99997  NaN                                                                                                                                                                                                                                                                                                                                                                                                                                                                                                                                                                                                                                                                                                                                                                                                                                                                                    \n",
      "99998  NaN                                                                                                                                                                                                                                                                                                                                                                                                                                                                                                                                                                                                                                                                                                                                                                                                                                                                                    \n",
      "99999  I filed a claim ( claim ID : XXXX & claim ID : XXXX ) for a purchase at XXXX that was cancelled and supposed to be refunded back to the same method of payment ( which was my card ending in XXXX ). \\n\\nChase initially gave me the money back, but later reversed the claim because XXXX sent them a proof of purchase. \\n\\nI did not dispute the proof of purchase, I disputed that the refund was never put back on my card. XXXX charged me for a service ( XXXX 2 XXXX ) that was cancelled because of not having a valid ID. \\n\\nI paid {$1800.00} plus a {$16.00} ; and {$1600.00} plus a {$16.00} service fee to XXXX, and received no service.                                                                                                                                                                                                                               \n",
      "\n",
      "                                                                               Company public response  \\\n",
      "0      NaN                                                                                               \n",
      "1      Company has responded to the consumer and the CFPB and chooses not to provide a public response   \n",
      "2      NaN                                                                                               \n",
      "3      NaN                                                                                               \n",
      "4      NaN                                                                                               \n",
      "...    ...                                                                                               \n",
      "99995  NaN                                                                                               \n",
      "99996  NaN                                                                                               \n",
      "99997  Company believes it acted appropriately as authorized by contract or law                          \n",
      "99998  Company has responded to the consumer and the CFPB and chooses not to provide a public response   \n",
      "99999  NaN                                                                                               \n",
      "\n",
      "                                      Company State ZIP code           Tags  \\\n",
      "0      TRANSWORLD SYSTEMS INC                  FL    335XX    NaN             \n",
      "1      Experian Information Solutions Inc.     PA    15206    NaN             \n",
      "2      Diversified Consultants, Inc.           NC    275XX    NaN             \n",
      "3      Pioneer Capital Solutions Inc           CA    925XX    NaN             \n",
      "4      TRANSUNION INTERMEDIATE HOLDINGS, INC.  TX    77048    NaN             \n",
      "...                                       ...  ..      ...    ...             \n",
      "99995  EQUIFAX, INC.                           CA    91741    NaN             \n",
      "99996  ENCORE CAPITAL GROUP INC.               WI    54130    NaN             \n",
      "99997  Waypoint Resource Group, LLC            TX    77532    NaN             \n",
      "99998  U.S. BANCORP                            NV    89521    NaN             \n",
      "99999  JPMORGAN CHASE & CO.                    FL    333XX    Servicemember   \n",
      "\n",
      "      Consumer consent provided? Submitted via Date sent to company  \\\n",
      "0      Consent provided           Web           2019-09-24            \n",
      "1      Consent not provided       Web           2019-09-20            \n",
      "2      Consent provided           Web           2019-11-08            \n",
      "3      Consent provided           Web           2019-09-15            \n",
      "4      NaN                        Web           2021-01-27            \n",
      "...    ...                        ...                  ...            \n",
      "99995  Consent not provided       Web           2019-05-19            \n",
      "99996  Consent not provided       Web           2019-08-01            \n",
      "99997  Consent not provided       Web           2019-07-16            \n",
      "99998  Consent not provided       Web           2019-08-14            \n",
      "99999  Consent provided           Web           2019-06-06            \n",
      "\n",
      "          Company response to consumer Timely response? Consumer disputed?  \\\n",
      "0      Closed with explanation          Yes              NaN                 \n",
      "1      Closed with non-monetary relief  Yes              NaN                 \n",
      "2      Closed with explanation          Yes              NaN                 \n",
      "3      Closed with explanation          Yes              NaN                 \n",
      "4      In progress                      Yes              NaN                 \n",
      "...            ...                      ...              ...                 \n",
      "99995  Closed with non-monetary relief  Yes              NaN                 \n",
      "99996  Closed with explanation          Yes              NaN                 \n",
      "99997  Closed with explanation          Yes              NaN                 \n",
      "99998  Closed with explanation          Yes              NaN                 \n",
      "99999  Closed with explanation          Yes              NaN                 \n",
      "\n",
      "       Complaint ID  \n",
      "0      3384392       \n",
      "1      3379500       \n",
      "2      3433198       \n",
      "3      3374555       \n",
      "4      4097576       \n",
      "...        ...       \n",
      "99995  3247185       \n",
      "99996  3326398       \n",
      "99997  3308702       \n",
      "99998  3340208       \n",
      "99999  3265931       \n",
      "\n",
      "[100000 rows x 18 columns]>\n"
     ]
    }
   ],
   "source": [
    "# nastavenie vizualizácie full text length\n",
    "pd.set_option('display.max_colwidth', -1)\n",
    "\n",
    "# separátor stĺpcov sa používa čiarka (pre tab to je sep='\\t')\n",
    "# pre moje demo požívam len prvých 100000 záznamov (nrows=100000). Pre načítanie všetkych riadkov stačí tento parameter vynechať\n",
    "df = pd.read_csv(cwd + '/Datasets/Complaints/complaints.csv',sep=',', error_bad_lines=False, nrows=100000)\n",
    "# zobrazenie prvých 3 riadkov \n",
    "df.head(3)\n",
    "\n",
    "# zobrazenie popisu dataframeu\n",
    "print(df.describe)"
   ]
  },
  {
   "cell_type": "markdown",
   "metadata": {},
   "source": [
    "### Príprava datasetu s konkrétnymi stĺpcami"
   ]
  },
  {
   "cell_type": "code",
   "execution_count": 9,
   "metadata": {},
   "outputs": [
    {
     "data": {
      "text/html": [
       "<div>\n",
       "<style scoped>\n",
       "    .dataframe tbody tr th:only-of-type {\n",
       "        vertical-align: middle;\n",
       "    }\n",
       "\n",
       "    .dataframe tbody tr th {\n",
       "        vertical-align: top;\n",
       "    }\n",
       "\n",
       "    .dataframe thead th {\n",
       "        text-align: right;\n",
       "    }\n",
       "</style>\n",
       "<table border=\"1\" class=\"dataframe\">\n",
       "  <thead>\n",
       "    <tr style=\"text-align: right;\">\n",
       "      <th></th>\n",
       "      <th>Product</th>\n",
       "      <th>Consumer_complaint_narrative</th>\n",
       "      <th>cat_id</th>\n",
       "    </tr>\n",
       "  </thead>\n",
       "  <tbody>\n",
       "    <tr>\n",
       "      <th>0</th>\n",
       "      <td>Debt collection</td>\n",
       "      <td>transworld systems inc. \\nis trying to collect a debt that is not mine, not owed and is inaccurate.</td>\n",
       "      <td>0</td>\n",
       "    </tr>\n",
       "    <tr>\n",
       "      <th>2</th>\n",
       "      <td>Debt collection</td>\n",
       "      <td>Over the past 2 weeks, I have been receiving excessive amounts of telephone calls from the company listed in this complaint. The calls occur between XXXX XXXX and XXXX XXXX to my cell and at my job. The company does not have the right to harass me at work and I want this to stop. It is extremely distracting to be told 5 times a day that I have a call from this collection agency while at work.</td>\n",
       "      <td>0</td>\n",
       "    </tr>\n",
       "    <tr>\n",
       "      <th>3</th>\n",
       "      <td>Debt collection</td>\n",
       "      <td>Pioneer has committed several federal violations against me, a Private law abiding Federally Protected Consumer. Each violation is a statutory cost of {$1000.00} each, which does not include my personal cost and fees which shall be determined for taking time to address these issues. Violations committed against me include but not limited to : ( 1 ) Violated 15 USC 1692c ( a ) ; Communication without prior consent, expressed permission. ( 2 ) Violated 15 USC 1692d ; Harass and oppressive use of intercourse about an alleged debt. ( 3 ) Violated 15 USC 1692d ( l ) ; Attacking my reputation, accusing me of owing an alleged debt to you. ( 4 ) Violated 15 USC 1692e ( 9 ) ; Use/distribution of communication with authorization or approval. ( 5 ) Violated 15 USC 1692f ( l ) ; Attempting to collect a debt unauthorized by an agreement between parties.</td>\n",
       "      <td>0</td>\n",
       "    </tr>\n",
       "  </tbody>\n",
       "</table>\n",
       "</div>"
      ],
      "text/plain": [
       "           Product  \\\n",
       "0  Debt collection   \n",
       "2  Debt collection   \n",
       "3  Debt collection   \n",
       "\n",
       "                                                                                                                                                                                                                                                                                                                                                                                                                                                                                                                                                                                                                                                                                                                                                                                                                                                           Consumer_complaint_narrative  \\\n",
       "0  transworld systems inc. \\nis trying to collect a debt that is not mine, not owed and is inaccurate.                                                                                                                                                                                                                                                                                                                                                                                                                                                                                                                                                                                                                                                                                                                                                                                    \n",
       "2  Over the past 2 weeks, I have been receiving excessive amounts of telephone calls from the company listed in this complaint. The calls occur between XXXX XXXX and XXXX XXXX to my cell and at my job. The company does not have the right to harass me at work and I want this to stop. It is extremely distracting to be told 5 times a day that I have a call from this collection agency while at work.                                                                                                                                                                                                                                                                                                                                                                                                                                                                            \n",
       "3  Pioneer has committed several federal violations against me, a Private law abiding Federally Protected Consumer. Each violation is a statutory cost of {$1000.00} each, which does not include my personal cost and fees which shall be determined for taking time to address these issues. Violations committed against me include but not limited to : ( 1 ) Violated 15 USC 1692c ( a ) ; Communication without prior consent, expressed permission. ( 2 ) Violated 15 USC 1692d ; Harass and oppressive use of intercourse about an alleged debt. ( 3 ) Violated 15 USC 1692d ( l ) ; Attacking my reputation, accusing me of owing an alleged debt to you. ( 4 ) Violated 15 USC 1692e ( 9 ) ; Use/distribution of communication with authorization or approval. ( 5 ) Violated 15 USC 1692f ( l ) ; Attempting to collect a debt unauthorized by an agreement between parties.   \n",
       "\n",
       "   cat_id  \n",
       "0  0       \n",
       "2  0       \n",
       "3  0       "
      ]
     },
     "execution_count": 9,
     "metadata": {},
     "output_type": "execute_result"
    }
   ],
   "source": [
    "# pomenovanie stĺpcov z datasetu\n",
    "col = ['Product', 'Consumer complaint narrative']\n",
    "# pridelenie stĺpcov z dataframeu\n",
    "df = df[col]\n",
    "# úprava datasetu (vymazanie riadkov s prázdnym textom)\n",
    "df = df[pd.notnull(df['Consumer complaint narrative'])]\n",
    "# definovanie konkrtétnych stĺpcov z dataframeu\n",
    "df.columns = ['Product', 'Consumer_complaint_narrative']\n",
    "\n",
    "# encoding stĺpcu Product \n",
    "df['cat_id'] = df['Product'].factorize()[0]\n",
    "# zmazanie všetkych duplicitných záznamov medzi Product a cat_id\n",
    "category_id_df = df[['Product', 'cat_id']].drop_duplicates().sort_values('cat_id')\n",
    "# pridanie hodnôť kategórii do dictionary\n",
    "category_to_id = dict(category_id_df.values)\n",
    "# pridanie hodnôt do dataframeu\n",
    "id_to_category = dict(category_id_df[['cat_id', 'Product']].values)\n",
    "# zobrazenie prvých 3 riadkov z dataframeu\n",
    "df.head(3)"
   ]
  },
  {
   "cell_type": "markdown",
   "metadata": {},
   "source": [
    "### Vizualizácia v grafe"
   ]
  },
  {
   "cell_type": "code",
   "execution_count": 4,
   "metadata": {},
   "outputs": [
    {
     "data": {
      "image/png": "[encoded data removed]",
      "text/plain": [
       "<Figure size 576x432 with 1 Axes>"
      ]
     },
     "metadata": {
      "needs_background": "light"
     },
     "output_type": "display_data"
    }
   ],
   "source": [
    "fig = plt.figure(figsize=(8,6))\n",
    "df.groupby('Product').Consumer_complaint_narrative.count().plot.bar(ylim=0)\n",
    "plt.show()"
   ]
  },
  {
   "cell_type": "markdown",
   "metadata": {},
   "source": [
    "### TfidfVectorizer"
   ]
  },
  {
   "cell_type": "code",
   "execution_count": 10,
   "metadata": {},
   "outputs": [
    {
     "name": "stdout",
     "output_type": "stream",
     "text": [
      "(45215, 109967)\n"
     ]
    }
   ],
   "source": [
    "# inicializácia modelu s nastaveniami\n",
    "tfidf = TfidfVectorizer(sublinear_tf=True, min_df=5, norm='l2', encoding='latin-1', ngram_range=(1, 2), stop_words='english')\n",
    "# inicializácia features\n",
    "features = tfidf.fit_transform(df.Consumer_complaint_narrative).toarray()\n",
    "# inicializácia labels\n",
    "labels = df.cat_id\n",
    "# zobrazenie matice features\n",
    "print(features.shape)"
   ]
  },
  {
   "cell_type": "markdown",
   "metadata": {},
   "source": [
    "### Korelácia výrazov s kategóriami"
   ]
  },
  {
   "cell_type": "code",
   "execution_count": 6,
   "metadata": {},
   "outputs": [],
   "source": [
    "# N = 2\n",
    "# for Product, category_id in sorted(category_to_id.items()):\n",
    "#   features_chi2 = chi2(features, labels == category_id)\n",
    "#   indices = np.argsort(features_chi2[0])\n",
    "#   feature_names = np.array(tfidf.get_feature_names())[indices]\n",
    "#   unigrams = [v for v in feature_names if len(v.split(' ')) == 1]\n",
    "#   bigrams = [v for v in feature_names if len(v.split(' ')) == 2]\n",
    "#   print(\"# '{}':\".format(Product))\n",
    "#   print(\"  . Najviac korelované Unigramy:\\n. {}\".format('\\n. '.join(unigrams[-N:])))\n",
    "#   print(\"  . Najviac korelované Bigramy:\\n. {}\".format('\\n. '.join(bigrams[-N:])))"
   ]
  },
  {
   "cell_type": "markdown",
   "metadata": {},
   "source": [
    "### Rozdelenie datasetu na training a test"
   ]
  },
  {
   "cell_type": "code",
   "execution_count": 11,
   "metadata": {},
   "outputs": [
    {
     "ename": "KeyboardInterrupt",
     "evalue": "",
     "output_type": "error",
     "traceback": [
      "\u001b[0;31m---------------------------------------------------------------------------\u001b[0m",
      "\u001b[0;31mKeyboardInterrupt\u001b[0m                         Traceback (most recent call last)",
      "\u001b[0;32m<ipython-input-11-4e5c0f50d3f7>\u001b[0m in \u001b[0;36m<module>\u001b[0;34m\u001b[0m\n\u001b[1;32m      2\u001b[0m \u001b[0mX\u001b[0m \u001b[0;34m=\u001b[0m \u001b[0;34m[\u001b[0m\u001b[0;34m]\u001b[0m\u001b[0;34m\u001b[0m\u001b[0;34m\u001b[0m\u001b[0m\n\u001b[1;32m      3\u001b[0m \u001b[0;32mfor\u001b[0m \u001b[0mdoc\u001b[0m \u001b[0;32min\u001b[0m \u001b[0mdf\u001b[0m\u001b[0;34m.\u001b[0m\u001b[0mConsumer_complaint_narrative\u001b[0m\u001b[0;34m:\u001b[0m\u001b[0;34m\u001b[0m\u001b[0;34m\u001b[0m\u001b[0m\n\u001b[0;32m----> 4\u001b[0;31m     \u001b[0mX\u001b[0m\u001b[0;34m.\u001b[0m\u001b[0mappend\u001b[0m\u001b[0;34m(\u001b[0m\u001b[0minsAIProc\u001b[0m\u001b[0;34m.\u001b[0m\u001b[0mpreprocess\u001b[0m\u001b[0;34m(\u001b[0m\u001b[0mdoc\u001b[0m\u001b[0;34m)\u001b[0m\u001b[0;34m.\u001b[0m\u001b[0mlower\u001b[0m\u001b[0;34m(\u001b[0m\u001b[0;34m)\u001b[0m\u001b[0;34m)\u001b[0m\u001b[0;34m\u001b[0m\u001b[0;34m\u001b[0m\u001b[0m\n\u001b[0m\u001b[1;32m      5\u001b[0m \u001b[0;34m\u001b[0m\u001b[0m\n\u001b[1;32m      6\u001b[0m \u001b[0my\u001b[0m \u001b[0;34m=\u001b[0m \u001b[0mdf\u001b[0m\u001b[0;34m.\u001b[0m\u001b[0mProduct\u001b[0m\u001b[0;34m\u001b[0m\u001b[0;34m\u001b[0m\u001b[0m\n",
      "\u001b[0;32m~/InsAInDEV/examples/insAInDev_Tools/insAInDev_Processor.py\u001b[0m in \u001b[0;36mpreprocess\u001b[0;34m(text)\u001b[0m\n\u001b[1;32m     85\u001b[0m     \"\"\"\n\u001b[1;32m     86\u001b[0m     \u001b[0mresult\u001b[0m\u001b[0;34m=\u001b[0m\u001b[0;34m[\u001b[0m\u001b[0;34m]\u001b[0m\u001b[0;34m\u001b[0m\u001b[0;34m\u001b[0m\u001b[0m\n\u001b[0;32m---> 87\u001b[0;31m     \u001b[0;32mfor\u001b[0m \u001b[0mtoken\u001b[0m \u001b[0;32min\u001b[0m \u001b[0mgensim\u001b[0m\u001b[0;34m.\u001b[0m\u001b[0mutils\u001b[0m\u001b[0;34m.\u001b[0m\u001b[0msimple_preprocess\u001b[0m\u001b[0;34m(\u001b[0m\u001b[0mtext\u001b[0m\u001b[0;34m)\u001b[0m \u001b[0;34m:\u001b[0m\u001b[0;34m\u001b[0m\u001b[0;34m\u001b[0m\u001b[0m\n\u001b[0m\u001b[1;32m     88\u001b[0m         \u001b[0;32mif\u001b[0m \u001b[0mtoken\u001b[0m \u001b[0;32mnot\u001b[0m \u001b[0;32min\u001b[0m \u001b[0mgensim\u001b[0m\u001b[0;34m.\u001b[0m\u001b[0mparsing\u001b[0m\u001b[0;34m.\u001b[0m\u001b[0mpreprocessing\u001b[0m\u001b[0;34m.\u001b[0m\u001b[0mSTOPWORDS\u001b[0m \u001b[0;32mand\u001b[0m \u001b[0mlen\u001b[0m\u001b[0;34m(\u001b[0m\u001b[0mtoken\u001b[0m\u001b[0;34m)\u001b[0m \u001b[0;34m>\u001b[0m \u001b[0;36m3\u001b[0m\u001b[0;34m:\u001b[0m\u001b[0;34m\u001b[0m\u001b[0;34m\u001b[0m\u001b[0m\n\u001b[1;32m     89\u001b[0m             \u001b[0;31m#print(lemmatize_stemming(token))\u001b[0m\u001b[0;34m\u001b[0m\u001b[0;34m\u001b[0m\u001b[0;34m\u001b[0m\u001b[0m\n",
      "\u001b[0;32m~/InsAInDEV/examples/insAInDev_Tools/insAInDev_Processor.py\u001b[0m in \u001b[0;36mlemmatize_stemming\u001b[0;34m(text)\u001b[0m\n\u001b[1;32m     61\u001b[0m \u001b[0;34m\u001b[0m\u001b[0m\n\u001b[1;32m     62\u001b[0m \u001b[0;31m# pd.DataFrame(data={'original word':original_words, 'stemmed':singles })\u001b[0m\u001b[0;34m\u001b[0m\u001b[0;34m\u001b[0m\u001b[0;34m\u001b[0m\u001b[0m\n\u001b[0;32m---> 63\u001b[0;31m \u001b[0;34m\u001b[0m\u001b[0m\n\u001b[0m\u001b[1;32m     64\u001b[0m \u001b[0;31m# TEXT HANDLING FUNCTIONS\u001b[0m\u001b[0;34m\u001b[0m\u001b[0;34m\u001b[0m\u001b[0;34m\u001b[0m\u001b[0m\n\u001b[1;32m     65\u001b[0m \u001b[0;32mdef\u001b[0m \u001b[0mlemmatize_stemming\u001b[0m\u001b[0;34m(\u001b[0m\u001b[0mtext\u001b[0m\u001b[0;34m)\u001b[0m\u001b[0;34m:\u001b[0m\u001b[0;34m\u001b[0m\u001b[0;34m\u001b[0m\u001b[0m\n",
      "\u001b[0;32m~/opt/anaconda3/lib/python3.8/site-packages/nltk/stem/snowball.py\u001b[0m in \u001b[0;36mstem\u001b[0;34m(self, word)\u001b[0m\n\u001b[1;32m   1413\u001b[0m         \u001b[0mword\u001b[0m \u001b[0;34m=\u001b[0m \u001b[0mword\u001b[0m\u001b[0;34m.\u001b[0m\u001b[0mlower\u001b[0m\u001b[0;34m(\u001b[0m\u001b[0;34m)\u001b[0m\u001b[0;34m\u001b[0m\u001b[0;34m\u001b[0m\u001b[0m\n\u001b[1;32m   1414\u001b[0m \u001b[0;34m\u001b[0m\u001b[0m\n\u001b[0;32m-> 1415\u001b[0;31m         \u001b[0;32mif\u001b[0m \u001b[0mword\u001b[0m \u001b[0;32min\u001b[0m \u001b[0mself\u001b[0m\u001b[0;34m.\u001b[0m\u001b[0mstopwords\u001b[0m \u001b[0;32mor\u001b[0m \u001b[0mlen\u001b[0m\u001b[0;34m(\u001b[0m\u001b[0mword\u001b[0m\u001b[0;34m)\u001b[0m \u001b[0;34m<=\u001b[0m \u001b[0;36m2\u001b[0m\u001b[0;34m:\u001b[0m\u001b[0;34m\u001b[0m\u001b[0;34m\u001b[0m\u001b[0m\n\u001b[0m\u001b[1;32m   1416\u001b[0m             \u001b[0;32mreturn\u001b[0m \u001b[0mword\u001b[0m\u001b[0;34m\u001b[0m\u001b[0;34m\u001b[0m\u001b[0m\n\u001b[1;32m   1417\u001b[0m \u001b[0;34m\u001b[0m\u001b[0m\n",
      "\u001b[0;31mKeyboardInterrupt\u001b[0m: "
     ]
    }
   ],
   "source": [
    "# Tokenizing, odstránenie stop words a normalizácia\n",
    "X = []\n",
    "for doc in df.Consumer_complaint_narrative:\n",
    "    X.append(insAIProc.preprocess(doc).lower())\n",
    "\n",
    "y = df.Product\n",
    "\n",
    "# rozdelenie datasetu na training a test\n",
    "X_train, X_test, y_train, y_test = train_test_split(X, y, random_state = 0, test_size=0.20)\n",
    "\n",
    "\n",
    "# X_train, X_test, y_train, y_test = train_test_split(df['Consumer_complaint_narrative'], df['Product'], random_state = 0, test_size=0.20)\n",
    "# inicializácia vectorizéra\n",
    "count_vect = CountVectorizer()\n",
    "# transformácia training datasetu\n",
    "X_train_counts = count_vect.fit_transform(X_train)\n",
    "# interpretácia zoznamu vektorov\n",
    "tfidf_transformer = TfidfTransformer()\n",
    "X_train_tfidf = tfidf_transformer.fit_transform(X_train_counts)"
   ]
  },
  {
   "cell_type": "markdown",
   "metadata": {},
   "source": [
    "### Multiclass klasifikátor"
   ]
  },
  {
   "cell_type": "code",
   "execution_count": 8,
   "metadata": {},
   "outputs": [
    {
     "name": "stdout",
     "output_type": "stream",
     "text": [
      "PREDIKCIA\n",
      "['Debt collection']\n",
      "Extrakcia vety z datasetu\n",
      "Accuracy score: 0.6856131814663275\n"
     ]
    }
   ],
   "source": [
    "# inicializácia \"učenie\" modelu MultinomialNB\n",
    "mnbClassifier = MultinomialNB().fit(X_train_tfidf, y_train)\n",
    "# predikcia s vetou, ktorá sa priamo nachádza v training datasete\n",
    "print(\"PREDIKCIA\")\n",
    "print(mnbClassifier.predict(count_vect.transform([\"transworld systems inc. \\nis trying to collect a debt that is not mine, not owed and is inaccurate.\"])))\n",
    "print(\"Extrakcia vety z datasetu\")\n",
    "df[df['Consumer_complaint_narrative'] == \"transworld systems inc. \\nis trying to collect a debt that is not mine, not owed and is inaccurate.\"]\n",
    "# predikcia pre celý dataset\n",
    "mnbPrediction = mnbClassifier.predict(count_vect.transform(X_test))\n",
    "# prepočet presnosti\n",
    "print('Accuracy score: {}'.format(accuracy_score(y_test, mnbPrediction)))"
   ]
  },
  {
   "cell_type": "markdown",
   "metadata": {},
   "source": [
    "### Multiclass klasifikátor výber toho najlepšieho"
   ]
  },
  {
   "cell_type": "code",
   "execution_count": null,
   "metadata": {},
   "outputs": [
    {
     "name": "stderr",
     "output_type": "stream",
     "text": [
      "/Users/zoltanhalasz/opt/anaconda3/lib/python3.8/site-packages/sklearn/model_selection/_split.py:670: UserWarning: The least populated class in y has only 1 members, which is less than n_splits=2.\n",
      "  warnings.warn((\"The least populated class in y has only %d\"\n"
     ]
    }
   ],
   "source": [
    "# inicializácia modelov\n",
    "models = [\n",
    "    RandomForestClassifier(n_estimators=200, max_depth=3, random_state=0),\n",
    "    LinearSVC(),\n",
    "    MultinomialNB(),\n",
    "    LogisticRegression(random_state=0),\n",
    "]\n",
    "\n",
    "# crossvalidation splitting strategy\n",
    "CV = 2\n",
    "cv_df = pd.DataFrame(index=range(CV * len(models)))\n",
    "entries = []\n",
    "# iterácia medzi jednotlivými modelmi\n",
    "for model in models:\n",
    "  model_name = model.__class__.__name__\n",
    "  accuracies = cross_val_score(model, features, labels, scoring='accuracy', cv=CV)\n",
    "  for fold_idx, accuracy in enumerate(accuracies):\n",
    "    entries.append((model_name, fold_idx, accuracy))\n",
    "cv_df = pd.DataFrame(entries, columns=['model_name', 'fold_idx', 'accuracy'])"
   ]
  },
  {
   "cell_type": "markdown",
   "metadata": {},
   "source": [
    "### Vizualizácia výsledkov v grafe"
   ]
  },
  {
   "cell_type": "code",
   "execution_count": null,
   "metadata": {},
   "outputs": [],
   "source": [
    "sns.boxplot(x='model_name', y='accuracy', data=cv_df)\n",
    "sns.stripplot(x='model_name', y='accuracy', data=cv_df, \n",
    "              size=8, jitter=True, edgecolor=\"gray\", linewidth=2)\n",
    "plt.show()"
   ]
  },
  {
   "cell_type": "markdown",
   "metadata": {},
   "source": [
    "### Výsledky modelov"
   ]
  },
  {
   "cell_type": "code",
   "execution_count": null,
   "metadata": {},
   "outputs": [],
   "source": [
    "cv_df.groupby('model_name').accuracy.mean()\n",
    "\n",
    "# LinearSVC: 0.822890\n",
    "# LogisticRegression: 0.792927\n",
    "# MultinomialNB: 0.688519\n",
    "# RandomForestClassifier: 0.443826"
   ]
  },
  {
   "cell_type": "markdown",
   "metadata": {},
   "source": [
    "### Vyhodnotenie modelu"
   ]
  },
  {
   "cell_type": "code",
   "execution_count": null,
   "metadata": {},
   "outputs": [],
   "source": [
    "model = LinearSVC()\n",
    "X_train, X_test, y_train, y_test, indices_train, indices_test = train_test_split(features, labels, df.index, test_size=0.33, random_state=0)\n",
    "model.fit(X_train, y_train)\n",
    "y_pred = model.predict(X_test)\n",
    "from sklearn.metrics import confusion_matrix\n",
    "conf_mat = confusion_matrix(y_test, y_pred)\n",
    "fig, ax = plt.subplots(figsize=(10,10))\n",
    "sns.heatmap(conf_mat, annot=True, fmt='d',\n",
    "            xticklabels=category_id_df.Product.values, yticklabels=category_id_df.Product.values)\n",
    "plt.ylabel('Actual')\n",
    "plt.xlabel('Predicted')\n",
    "plt.show()"
   ]
  }
 ],
 "metadata": {
  "kernelspec": {
   "display_name": "Python 3",
   "language": "python",
   "name": "python3"
  },
  "language_info": {
   "codemirror_mode": {
    "name": "ipython",
    "version": 3
   },
   "file_extension": ".py",
   "mimetype": "text/x-python",
   "name": "python",
   "nbconvert_exporter": "python",
   "pygments_lexer": "ipython3",
   "version": "3.8.5"
  }
 },
 "nbformat": 4,
 "nbformat_minor": 4
}
