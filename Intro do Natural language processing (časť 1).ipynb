{
 "cells": [
  {
   "cell_type": "code",
   "execution_count": null,
   "metadata": {},
   "outputs": [],
   "source": [
    "#!pip install https://s3-us-west-2.amazonaws.com/ai2-s2-scispacy/releases/v0.2.4/en_core_sci_sm-0.2.4.tar.gz"
   ]
  },
  {
   "cell_type": "code",
   "execution_count": 12,
   "metadata": {},
   "outputs": [
    {
     "name": "stdout",
     "output_type": "stream",
     "text": [
      "/Users/zoltanhalasz/InsAInDEV/examples\n",
      "['galaxy - note', 'galaxy note', 'iphone 11', 'iphone 11', 'iphone xs', 'iphone xs', 'google pixel / 4', 'google pixel 4']\n",
      "Keywords sú inicializované\n",
      "[(13771223409089337610, 15, 18), (13771223409089337610, 19, 21)]\n",
      "Nájdené výrazy: phonesList Google Pixel 4\n"
     ]
    }
   ],
   "source": [
    "import os\n",
    "import sys\n",
    "\n",
    "# inicializázia current working directory\n",
    "cwd = os.getcwd()\n",
    "print(cwd)\n",
    "\n",
    "# inicializácia mojich funkcií\n",
    "sys.path.insert(1,cwd + '/brAIn_tools/')\n",
    "import brAIn_Processor as bp\n",
    "\n",
    "# inicializázia spacy\n",
    "import spacy\n",
    "nlp = spacy.load(\"en_core_sci_sm\",disable=[\"tagger\", \"parser\", \"ner\"])\n",
    "nlp.max_length = 2000000\n",
    "\n",
    "# inicializácia phrasematcher\n",
    "from spacy.matcher import PhraseMatcher\n",
    "matcher = PhraseMatcher(nlp.vocab, attr='LOWER')\n",
    "\n",
    "# načítanie keywords zo súboru\n",
    "text_file = open(cwd +\"/Datasets/Keywords/examplekeywords.txt\", \"r\")\n",
    "\n",
    "# pridanie keywords do zoznamu s názvom \"lines\"\n",
    "lines = text_file.readlines()\n",
    "\n",
    "# inicializácia prázdneho zoznamu kde sa budú nachádzať \"očistené slová\" Bez interpunkčných znamienok, len písmená a čísla\n",
    "clearedkeywords = []\n",
    "\n",
    "# loop cez pole kľúčových slov a pridanie do nového poľa, ktoré bude obsahovať aj pôvodné slová a aj očistené\n",
    "for i in lines:\n",
    "    clearKeyword = bp.clean_text(str(i))\n",
    "    clearedkeywords.append(i.rstrip(\"\\n\").lower())\n",
    "    clearedkeywords.append(clearKeyword)\n",
    "    \n",
    "print(clearedkeywords)\n",
    "\n",
    "print(\"Keywords sú inicializované\")\n",
    "\n",
    "# inicializácia vety\n",
    "recenzia = \"Pokiaľ radi natáčate video, následujúci test môže byť pre vás kľúčový. Veľké porovnanie Google Pixel 4 vs iPhone 11 Pro vs Samsung Note 10+ ukazuje, ktorý je v určitých disciplínach najlepší.\"\n",
    "\n",
    "# príprava dokumentu z textu pre NLP\n",
    "patterns = [nlp(text) for text in clearedkeywords]\n",
    "matcher.add(\"phonesList\", patterns)\n",
    "\n",
    "# príprava texti do dokumentu\n",
    "text_doc = nlp(recenzia) \n",
    "\n",
    "#  získanie výsledkov vyhľadávania\n",
    "matches = matcher(text_doc)\n",
    "print(matches)\n",
    "\n",
    "# výpis konkrétneho výstupu (tuple)\n",
    "match_id, start, end = matches[0]\n",
    "print('Nájdené výrazy: ' + nlp.vocab.strings[match_id], text_doc[start:end])"
   ]
  }
 ],
 "metadata": {
  "kernelspec": {
   "display_name": "Python 3",
   "language": "python",
   "name": "python3"
  },
  "language_info": {
   "codemirror_mode": {
    "name": "ipython",
    "version": 3
   },
   "file_extension": ".py",
   "mimetype": "text/x-python",
   "name": "python",
   "nbconvert_exporter": "python",
   "pygments_lexer": "ipython3",
   "version": "3.8.5"
  }
 },
 "nbformat": 4,
 "nbformat_minor": 4
}
