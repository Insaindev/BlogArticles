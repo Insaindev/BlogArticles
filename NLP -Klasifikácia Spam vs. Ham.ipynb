{
 "cells": [
  {
   "cell_type": "code",
   "execution_count": 142,
   "metadata": {},
   "outputs": [],
   "source": [
    "import numpy as np\n",
    "import pandas as pd\n",
    "import sys\n",
    "import os\n",
    "import re\n",
    "import random\n",
    "import nltk\n",
    "import spacy\n",
    "from sklearn.metrics import confusion_matrix\n",
    "from spacy.util import minibatch\n",
    "from nltk.stem.porter import PorterStemmer\n",
    "from nltk.corpus import stopwords\n",
    "from sklearn.feature_extraction.text import CountVectorizer  \n",
    "from sklearn.feature_extraction.text import TfidfTransformer\n",
    "from sklearn.model_selection import cross_val_score\n",
    "from sklearn.model_selection import cross_val_predict\n",
    "from sklearn.metrics import precision_score, recall_score\n",
    "import seaborn as sns\n",
    "\n",
    "from sklearn.preprocessing import LabelEncoder\n",
    "from sklearn.model_selection import train_test_split\n",
    "from sklearn.naive_bayes import GaussianNB\n",
    "from sklearn.metrics import accuracy_score,precision_score,recall_score,f1_score\n",
    "from sklearn.ensemble import RandomForestClassifier\n",
    "\n",
    "# inicializácia mojich funkcií\n",
    "sys.path.insert(1,cwd + '/brAIn_tools/')\n",
    "import brAIn_Processor as bp"
   ]
  },
  {
   "cell_type": "markdown",
   "metadata": {},
   "source": [
    "### Inicializácia premenných a objektov"
   ]
  },
  {
   "cell_type": "code",
   "execution_count": 40,
   "metadata": {},
   "outputs": [
    {
     "name": "stdout",
     "output_type": "stream",
     "text": [
      "  category                                               text Unnamed: 2  \\\n",
      "0      ham  Go until jurong point, crazy.. Available only ...        NaN   \n",
      "1      ham                      Ok lar... Joking wif u oni...        NaN   \n",
      "2     spam  Free entry in 2 a wkly comp to win FA Cup fina...        NaN   \n",
      "\n",
      "  Unnamed: 3 Unnamed: 4  \n",
      "0        NaN        NaN  \n",
      "1        NaN        NaN  \n",
      "2        NaN        NaN  \n"
     ]
    },
    {
     "data": {
      "text/plain": [
       "1"
      ]
     },
     "execution_count": 40,
     "metadata": {},
     "output_type": "execute_result"
    }
   ],
   "source": [
    "cwd = os.getcwd()\n",
    "nlp = spacy.blank(\"en\")\n",
    "\n",
    "# načítanie trainingdatasetu\n",
    "dataset = pd.read_csv(cwd + '/Datasets/Spam/spam.csv.xls', encoding='cp437')\n",
    "\n",
    "# zobrazenie prvých 3 riadkov\n",
    "print(dataset.head(3))\n",
    "\n",
    "# inicializácia TextCategorizer s vlastným nastavením a \"bow\" architektúrou\n",
    "categorizer = nlp.create_pipe(\"textcat\", \n",
    "                             config = {\n",
    "                                 \"exclussive_classes\": True,\n",
    "                                 \"architecture\": \"bow\"\n",
    "                             })\n",
    "# pridanie vlastného TextCategorizer do prázdneho modelu\n",
    "nlp.add_pipe(categorizer)\n",
    "\n",
    "# inicializácia labelov do klasifikátora\n",
    "categorizer.add_label(\"ham\")\n",
    "categorizer.add_label(\"spam\")"
   ]
  },
  {
   "cell_type": "markdown",
   "metadata": {},
   "source": [
    "### Tréning modelu pre kategorizér"
   ]
  },
  {
   "cell_type": "code",
   "execution_count": 54,
   "metadata": {},
   "outputs": [
    {
     "name": "stdout",
     "output_type": "stream",
     "text": [
      "(5572,)\n",
      "{'textcat': 0.0839002572247125}\n",
      "{'textcat': 0.13926357888274765}\n",
      "{'textcat': 0.18399449728851636}\n",
      "{'textcat': 0.22113989239486997}\n",
      "{'textcat': 0.253858281191512}\n",
      "{'textcat': 0.28316180248894973}\n",
      "{'textcat': 0.3100417722000035}\n",
      "{'textcat': 0.3350057540579545}\n",
      "{'textcat': 0.35855912649300414}\n",
      "{'textcat': 0.3808670160892813}\n"
     ]
    }
   ],
   "source": [
    "# inicializácia training setu viet z datasetu\n",
    "train_text = dataset['text'].values\n",
    "print(train_text.shape)\n",
    "\n",
    "# inicializácia training labelov setu category\n",
    "train_labels = [{'cats' : {'ham': label == 'ham',\n",
    "                           'spam': label == 'spam'}}\n",
    "               for label in dataset['category']]\n",
    "\n",
    "# vytvorenie kombinovaného zoznamu textu a príslušnej kategórie\n",
    "train_data = list(zip(train_text, train_labels))\n",
    "#print(train_data[:3])\n",
    "\n",
    "# rozdelenie datasetu na minibatche a poprípade aj zamiešanie training data\n",
    "spacy.util.fix_random_seed(1)\n",
    "optimizer = nlp.begin_training()\n",
    "random.seed(1)\n",
    "\n",
    "# inicializácia premennej, ktorá bude zaznamenávať straty počas učenia\n",
    "losses = {}\n",
    "\n",
    "# nastavenie počtov epoch pre potreby lepšieho učenia\n",
    "for epoch in range(10):\n",
    "    # zamiešanie training data\n",
    "    random.shuffle(train_data)\n",
    "    \n",
    "    # vytvorenie generátora mini batchov (v mojom prípade veľkosťou 8)\n",
    "    batches = minibatch(train_data, size=8)\n",
    "    # iterácia medzi minibatchmi\n",
    "    for batch in batches:\n",
    "        # každý batch obsahuje zoznam (text, label) ale pre správny update\n",
    "        # musím prerozdeliť zoznam na texty a labely. Na to použijem zip\n",
    "        # ktorý mi prerozdelý zoznam tuplov na zoznam objektov\n",
    "        texts, labels = zip(*batch)\n",
    "        nlp.update(texts, labels, sgd = optimizer, losses=losses)\n",
    "    # vypísanie strát počas učenia\n",
    "    print(losses)"
   ]
  },
  {
   "cell_type": "markdown",
   "metadata": {},
   "source": [
    "### Predikcia"
   ]
  },
  {
   "cell_type": "code",
   "execution_count": 50,
   "metadata": {},
   "outputs": [
    {
     "name": "stdout",
     "output_type": "stream",
     "text": [
      "[[0.99739385 0.00277646]\n",
      " [0.02088116 0.976437  ]]\n",
      "['ham', 'spam']\n"
     ]
    }
   ],
   "source": [
    "# testovacie texty\n",
    "texty = [\"Are you ready for the tea party????? It's gonna be wild\",\n",
    "         \"URGENT Reply to this message for GUARANTEED FREE TEA\"]\n",
    "# konverzia textu na dokumenty\n",
    "docs = [nlp.tokenizer(text) for text in texty]\n",
    "\n",
    "# využitie kategórii na získanie skóre predikcie\n",
    "textcat = nlp.get_pipe('textcat')\n",
    "scores, _ = textcat.predict(docs)\n",
    "\n",
    "# vypísanie skóre\n",
    "print(scores)\n",
    "\n",
    "# vypísanie najvyššieho skóre z predikcii pre každý z textov\n",
    "predicted_labels = scores.argmax(axis=1)\n",
    "print([textcat.labels[label] for label in predicted_labels])\n",
    "\n"
   ]
  },
  {
   "cell_type": "markdown",
   "metadata": {},
   "source": [
    "### Porovnanie viacerých modelov"
   ]
  },
  {
   "cell_type": "code",
   "execution_count": 145,
   "metadata": {},
   "outputs": [
    {
     "name": "stdout",
     "output_type": "stream",
     "text": [
      "Accuracy score: 0.7865470852017937\n",
      "Precision score: 0.3863013698630137\n",
      "Recall score: 0.9096774193548387\n",
      "F1 score: 0.5423076923076923\n",
      "Accuracy score: 0.9632286995515695\n",
      "Precision score: 0.9672131147540983\n",
      "Recall score: 0.7612903225806451\n",
      "F1 score: 0.8519855595667869\n",
      "[0]\n"
     ]
    },
    {
     "data": {
      "image/png": "[encoded data removed]",
      "text/plain": [
       "<Figure size 432x288 with 2 Axes>"
      ]
     },
     "metadata": {
      "needs_background": "light"
     },
     "output_type": "display_data"
    }
   ],
   "source": [
    "reviews = []\n",
    "for row in train_text:  \n",
    "    reviews.append(bp.preprocess(row).lower())  # lemmantizer, stemming, lower   \n",
    " \n",
    "cv = CountVectorizer()\n",
    "features = cv.fit_transform(reviews).toarray()\n",
    "le = LabelEncoder()\n",
    "labels = le.fit_transform(dataset['category'])\n",
    "\n",
    "tfidf_transformer = TfidfTransformer()\n",
    "X_train_tfidf = tfidf_transformer.fit_transform(features)\n",
    "\n",
    "X_train, X_test, y_train, y_test = train_test_split(features, labels, test_size=0.20)\n",
    "\n",
    "\n",
    "\n",
    "gnbClass = GaussianNB()\n",
    "gnbClass.fit(X_train, y_train)\n",
    "#prediction\n",
    "gnbPrediction = gnbClass.predict(X_test)\n",
    "print('Accuracy score: {}'.format(accuracy_score(y_test, gnbPrediction)))\n",
    "print('Precision score: {}'.format(precision_score(y_test, gnbPrediction)))\n",
    "print('Recall score: {}'.format(recall_score(y_test, gnbPrediction)))\n",
    "print('F1 score: {}'.format(f1_score(y_test, gnbPrediction)))\n",
    "\n",
    "\n",
    "classifier1=RandomForestClassifier(n_estimators=10, max_features='auto', criterion='entropy')\n",
    "classifier1.fit(X_train,y_train)\n",
    "predRF=classifier1.predict(X_test)\n",
    "print('Accuracy score: {}'.format(accuracy_score(y_test, predRF)))\n",
    "print('Precision score: {}'.format(precision_score(y_test, predRF)))\n",
    "print('Recall score: {}'.format(recall_score(y_test, predRF)))\n",
    "print('F1 score: {}'.format(f1_score(y_test, predRF)))\n",
    "\n",
    "rfc=RandomForestClassifier(n_estimators=10, max_features='auto', criterion='entropy')\n",
    "rfc.fit(X_train,y_train)\n",
    "print(rfc.predict(cv.transform([\"URGENT Reply to this message for GUARANTEED FREE TEA\"])))\n",
    "\n",
    "import matplotlib.pyplot as plt\n",
    "from sklearn.metrics import plot_confusion_matrix\n",
    "\n",
    "confusion_matrix(y_test, predRF)\n",
    "\n",
    "plot_confusion_matrix(rfc, X_test, y_test)\n",
    "plt.show()"
   ]
  }
 ],
 "metadata": {
  "kernelspec": {
   "display_name": "Python 3",
   "language": "python",
   "name": "python3"
  },
  "language_info": {
   "codemirror_mode": {
    "name": "ipython",
    "version": 3
   },
   "file_extension": ".py",
   "mimetype": "text/x-python",
   "name": "python",
   "nbconvert_exporter": "python",
   "pygments_lexer": "ipython3",
   "version": "3.8.5"
  }
 },
 "nbformat": 4,
 "nbformat_minor": 4
}
