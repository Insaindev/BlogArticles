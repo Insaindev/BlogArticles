{
 "cells": [
  {
   "cell_type": "code",
   "execution_count": 61,
   "metadata": {},
   "outputs": [],
   "source": [
    "import os\n",
    "import sys\n",
    "import pandas as pd\n",
    "from sklearn.model_selection import train_test_split\n",
    "from sklearn.ensemble import RandomForestRegressor\n",
    "from sklearn.metrics import mean_absolute_error\n",
    "from sklearn.impute import SimpleImputer\n",
    "\n",
    "cwd = os.getcwd()"
   ]
  },
  {
   "cell_type": "markdown",
   "metadata": {},
   "source": [
    "### Načítanie training datasetu"
   ]
  },
  {
   "cell_type": "code",
   "execution_count": 82,
   "metadata": {},
   "outputs": [
    {
     "name": "stdout",
     "output_type": "stream",
     "text": [
      "(13580, 21)\n"
     ]
    },
    {
     "name": "stderr",
     "output_type": "stream",
     "text": [
      "<ipython-input-82-1e99282e72d1>:2: FutureWarning: Passing a negative integer is deprecated in version 1.0 and will not be supported in future version. Instead, use None to not limit the column width.\n",
      "  pd.set_option('display.max_colwidth', -1)\n"
     ]
    }
   ],
   "source": [
    "# nastavenie vizualizácie full text length\n",
    "pd.set_option('display.max_colwidth', -1)\n",
    "\n",
    "# separátor stĺpcov sa používa čiarka (pre tab to je sep='\\t')\n",
    "# pre moje demo požívam len prvých 100000 záznamov (nrows=100000). Pre načítanie všetkych riadkov stačí tento parameter vynechať\n",
    "df = pd.read_csv(cwd + '/Datasets/Housing/melb_data.csv',sep=',', error_bad_lines=False, nrows=100000)\n",
    "# zobrazenie prvých 3 riadkov \n",
    "print(df.head(3))\n",
    "\n",
    "print(df.shape)"
   ]
  },
  {
   "cell_type": "markdown",
   "metadata": {},
   "source": [
    "### Príprava datasetu"
   ]
  },
  {
   "cell_type": "code",
   "execution_count": 45,
   "metadata": {},
   "outputs": [
    {
     "name": "stdout",
     "output_type": "stream",
     "text": [
      "       Suburb           Address  Rooms Type      Price Method SellerG  \\\n",
      "0  Abbotsford  85 Turner St      2      h    1480000.0  S      Biggin   \n",
      "1  Abbotsford  25 Bloomburg St   2      h    1035000.0  S      Biggin   \n",
      "2  Abbotsford  5 Charles St      3      h    1465000.0  SP     Biggin   \n",
      "3  Abbotsford  40 Federation La  3      h    850000.0   PI     Biggin   \n",
      "4  Abbotsford  55a Park St       4      h    1600000.0  VB     Nelson   \n",
      "\n",
      "        Date  Distance  Postcode  ...  Bathroom  Car  Landsize  BuildingArea  \\\n",
      "0  3/12/2016  2.5       3067.0    ...  1.0       1.0  202.0    NaN             \n",
      "1  4/02/2016  2.5       3067.0    ...  1.0       0.0  156.0     79.0           \n",
      "2  4/03/2017  2.5       3067.0    ...  2.0       0.0  134.0     150.0          \n",
      "3  4/03/2017  2.5       3067.0    ...  2.0       1.0  94.0     NaN             \n",
      "4  4/06/2016  2.5       3067.0    ...  1.0       2.0  120.0     142.0          \n",
      "\n",
      "   YearBuilt  CouncilArea Lattitude  Longtitude             Regionname  \\\n",
      "0 NaN         Yarra       -37.7996   144.9984    Northern Metropolitan   \n",
      "1  1900.0     Yarra       -37.8079   144.9934    Northern Metropolitan   \n",
      "2  1900.0     Yarra       -37.8093   144.9944    Northern Metropolitan   \n",
      "3 NaN         Yarra       -37.7969   144.9969    Northern Metropolitan   \n",
      "4  2014.0     Yarra       -37.8072   144.9941    Northern Metropolitan   \n",
      "\n",
      "  Propertycount  \n",
      "0  4019.0        \n",
      "1  4019.0        \n",
      "2  4019.0        \n",
      "3  4019.0        \n",
      "4  4019.0        \n",
      "\n",
      "[5 rows x 21 columns]\n",
      "       Rooms  Distance  Postcode  Bedroom2  Bathroom  Car  Landsize  \\\n",
      "12167  1      5.0       3182.0    1.0       1.0       1.0  0.0        \n",
      "6524   2      8.0       3016.0    2.0       2.0       1.0  193.0      \n",
      "8413   3      12.6      3020.0    3.0       1.0       1.0  555.0      \n",
      "2919   3      13.0      3046.0    3.0       1.0       1.0  265.0      \n",
      "6043   3      13.3      3020.0    3.0       1.0       2.0  673.0      \n",
      "\n",
      "       BuildingArea  YearBuilt  Lattitude  Longtitude  Propertycount  \n",
      "12167 NaN            1940.0    -37.85984   144.9867    13240.0        \n",
      "6524  NaN           NaN        -37.85800   144.9005    6380.0         \n",
      "8413  NaN           NaN        -37.79880   144.8220    3755.0         \n",
      "2919  NaN            1995.0    -37.70830   144.9158    8870.0         \n",
      "6043   673.0         1970.0    -37.76230   144.8272    4217.0         \n"
     ]
    }
   ],
   "source": [
    "# pomenovanie stĺpcov z datasetu\n",
    "col = ['Rooms', 'Distance', 'Price']\n",
    "# pridelenie stĺpcov z dataframeu\n",
    "#df = df[col]\n",
    "# úprava datasetu (vymazanie riadkov s prázdnym textom)\n",
    "#df = df[pd.notnull(df['Consumer complaint narrative'])]\n",
    "# definovanie konkrtétnych stĺpcov z dataframeu\n",
    "#df.columns = ['Rooms', 'Distance', 'Price']\n",
    "\n",
    "print(df.head())\n",
    "\n",
    "y = df.Price\n",
    "df.drop(['Price'], axis=1, inplace=True)\n",
    "X = df.select_dtypes(exclude=['object'])\n",
    "\n",
    "X_train, X_test, y_train, y_test = train_test_split(X, y, random_state = 0, test_size=0.20)\n",
    "\n",
    "print(X_train.head())"
   ]
  },
  {
   "cell_type": "markdown",
   "metadata": {},
   "source": [
    "### Sumarizácia chýbajúcich parametrov po stĺpcoch"
   ]
  },
  {
   "cell_type": "code",
   "execution_count": 47,
   "metadata": {},
   "outputs": [
    {
     "name": "stdout",
     "output_type": "stream",
     "text": [
      "Car             49  \n",
      "BuildingArea    5156\n",
      "YearBuilt       4307\n",
      "dtype: int64\n"
     ]
    }
   ],
   "source": [
    "# Počet chýbajúcich dát s NULL príznakom\n",
    "missing_val_count_by_column = (X_train.isnull().sum())\n",
    "# vizualizácia počtov a stĺpcov\n",
    "print(missing_val_count_by_column[missing_val_count_by_column > 0])"
   ]
  },
  {
   "cell_type": "markdown",
   "metadata": {},
   "source": [
    "### Definovanie funkcie pre výpočet chybovosti (MAE)"
   ]
  },
  {
   "cell_type": "code",
   "execution_count": 50,
   "metadata": {},
   "outputs": [],
   "source": [
    "# Function for comparing different approaches\n",
    "def score_dataset(X_train, X_valid, y_train, y_valid):\n",
    "    model = RandomForestRegressor(n_estimators=100, random_state=0)\n",
    "    model.fit(X_train, y_train)\n",
    "    preds = model.predict(X_valid)\n",
    "    return mean_absolute_error(y_valid, preds)"
   ]
  },
  {
   "cell_type": "markdown",
   "metadata": {},
   "source": [
    "### Vymazanie riadkov"
   ]
  },
  {
   "cell_type": "code",
   "execution_count": 76,
   "metadata": {},
   "outputs": [],
   "source": [
    "# vytvorenie zoznamu stĺpcov s chýbajúcimi dátami\n",
    "cols_with_missing = [col for col in X_train.columns\n",
    "                     if X_train[col].isnull().any()]\n",
    "# pridelenie chýbajúcich training dát\n",
    "reduced_X_train = X_train.drop(cols_with_missing, axis=1)\n",
    "# pridelenie chýbajúcich testovacích dát\n",
    "reduced_X_test = X_test.drop(cols_with_missing, axis=1)"
   ]
  },
  {
   "cell_type": "markdown",
   "metadata": {},
   "source": [
    "### Kontrola MAE pre vymazanie riadkov"
   ]
  },
  {
   "cell_type": "code",
   "execution_count": 60,
   "metadata": {},
   "outputs": [
    {
     "name": "stdout",
     "output_type": "stream",
     "text": [
      "MAE skóre pre vymazanie riadkov:  175703.48185157913\n"
     ]
    }
   ],
   "source": [
    "print(\"MAE skóre pre vymazanie riadkov: \", str(score_dataset(reduced_X_train, reduced_X_test, y_train, y_test)))"
   ]
  },
  {
   "cell_type": "markdown",
   "metadata": {},
   "source": [
    "### Imputation"
   ]
  },
  {
   "cell_type": "code",
   "execution_count": 77,
   "metadata": {},
   "outputs": [],
   "source": [
    "# inicializácia funkcie SimpleImputer\n",
    "imputer = SimpleImputer()\n",
    "# transformácia, fit a priradenie training dát)\n",
    "imputed_X_train = pd.DataFrame(imputer.fit_transform(X_train))\n",
    "# transformácia a pridelenie testovacích dát\n",
    "imputed_X_test = pd.DataFrame(imputer.transform(X_test))\n",
    "\n",
    "# pridelenie získaných dát do stĺcpov datasetu\n",
    "imputed_X_train.columns = X_train.columns\n",
    "imputed_X_test.columns = X_test.columns"
   ]
  },
  {
   "cell_type": "markdown",
   "metadata": {},
   "source": [
    "### Kontrola MAE pre Imputation"
   ]
  },
  {
   "cell_type": "code",
   "execution_count": 68,
   "metadata": {},
   "outputs": [
    {
     "name": "stdout",
     "output_type": "stream",
     "text": [
      "MAE skóre pre imputation:  169237.0268668034\n"
     ]
    }
   ],
   "source": [
    "print(\"MAE skóre pre imputation: \", str(score_dataset(imputed_X_train, imputed_X_test, y_train, y_test)))"
   ]
  },
  {
   "cell_type": "markdown",
   "metadata": {},
   "source": [
    "### Rozšírená imputácia"
   ]
  },
  {
   "cell_type": "code",
   "execution_count": 71,
   "metadata": {},
   "outputs": [],
   "source": [
    "# inicializácia funkcie SimpleImputer so stratégiou median\n",
    "imputer = SimpleImputer(strategy='median')\n",
    "# transformácia, fit a priradenie training dát)\n",
    "ext_imputed_X_train = pd.DataFrame(imputer.fit_transform(X_train))\n",
    "# transformácia a pridelenie testovacích dát\n",
    "ext_imputed_X_test = pd.DataFrame(imputer.transform(X_test))\n",
    "\n",
    "# pridelenie získaných dát do stĺcpov datasetu\n",
    "ext_imputed_X_train.columns = X_train.columns\n",
    "ext_imputed_X_test.columns = X_test.columns\n",
    "\n",
    "# inicializácia modelu\n",
    "model = RandomForestRegressor(n_estimators=100, random_state=0)\n",
    "model.fit(ext_imputed_X_train, y_train)\n",
    "\n",
    "# predikcia\n",
    "preds_valid = model.predict(ext_imputed_X_test)"
   ]
  },
  {
   "cell_type": "markdown",
   "metadata": {},
   "source": [
    "### Kontrola MAE pre rozšírenú imputáciu"
   ]
  },
  {
   "cell_type": "code",
   "execution_count": 74,
   "metadata": {},
   "outputs": [
    {
     "name": "stdout",
     "output_type": "stream",
     "text": [
      "MAE skóre pre rozšírenú imputáciu):  169749.0436038642\n"
     ]
    }
   ],
   "source": [
    "print(\"MAE skóre pre rozšírenú imputáciu): \",str(mean_absolute_error(y_test, preds_valid)))"
   ]
  }
 ],
 "metadata": {
  "kernelspec": {
   "display_name": "Python 3",
   "language": "python",
   "name": "python3"
  },
  "language_info": {
   "codemirror_mode": {
    "name": "ipython",
    "version": 3
   },
   "file_extension": ".py",
   "mimetype": "text/x-python",
   "name": "python",
   "nbconvert_exporter": "python",
   "pygments_lexer": "ipython3",
   "version": "3.8.5"
  }
 },
 "nbformat": 4,
 "nbformat_minor": 4
}
